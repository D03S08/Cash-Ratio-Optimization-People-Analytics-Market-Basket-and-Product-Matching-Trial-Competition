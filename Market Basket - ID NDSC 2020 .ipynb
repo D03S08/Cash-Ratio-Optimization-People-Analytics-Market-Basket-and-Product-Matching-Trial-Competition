{
 "cells": [
  {
   "cell_type": "code",
   "execution_count": 1,
   "metadata": {
    "_cell_guid": "79c7e3d0-c299-4dcb-8224-4455121ee9b0",
    "_uuid": "d629ff2d2480ee46fbb7e2d37f6b5fab8052498a",
    "execution": {
     "iopub.execute_input": "2020-12-03T07:02:38.024221Z",
     "iopub.status.busy": "2020-12-03T07:02:38.022405Z",
     "iopub.status.idle": "2020-12-03T07:02:38.027903Z",
     "shell.execute_reply": "2020-12-03T07:02:38.027217Z"
    },
    "papermill": {
     "duration": 0.01795,
     "end_time": "2020-12-03T07:02:38.028028",
     "exception": false,
     "start_time": "2020-12-03T07:02:38.010078",
     "status": "completed"
    },
    "tags": []
   },
   "outputs": [],
   "source": [
    "import pandas as pd\n",
    "from math import floor"
   ]
  },
  {
   "cell_type": "code",
   "execution_count": 2,
   "metadata": {
    "execution": {
     "iopub.execute_input": "2020-12-03T07:02:38.052837Z",
     "iopub.status.busy": "2020-12-03T07:02:38.052055Z",
     "iopub.status.idle": "2020-12-03T07:02:38.307092Z",
     "shell.execute_reply": "2020-12-03T07:02:38.306114Z"
    },
    "papermill": {
     "duration": 0.269376,
     "end_time": "2020-12-03T07:02:38.307267",
     "exception": false,
     "start_time": "2020-12-03T07:02:38.037891",
     "status": "completed"
    },
    "tags": []
   },
   "outputs": [],
   "source": [
    "association = pd.read_csv('../input/market-basket-id-ndsc-2020/association_order.csv')\n",
    "rules = pd.read_csv('../input/market-basket-id-ndsc-2020/rules.csv')"
   ]
  },
  {
   "cell_type": "code",
   "execution_count": 3,
   "metadata": {
    "execution": {
     "iopub.execute_input": "2020-12-03T07:02:38.337495Z",
     "iopub.status.busy": "2020-12-03T07:02:38.336325Z",
     "iopub.status.idle": "2020-12-03T07:02:47.151354Z",
     "shell.execute_reply": "2020-12-03T07:02:47.150653Z"
    },
    "papermill": {
     "duration": 8.834875,
     "end_time": "2020-12-03T07:02:47.151507",
     "exception": false,
     "start_time": "2020-12-03T07:02:38.316632",
     "status": "completed"
    },
    "tags": []
   },
   "outputs": [],
   "source": [
    "group_itemid = association.groupby('itemid')['orderid'].apply(set)"
   ]
  },
  {
   "cell_type": "code",
   "execution_count": 4,
   "metadata": {
    "execution": {
     "iopub.execute_input": "2020-12-03T07:02:47.178078Z",
     "iopub.status.busy": "2020-12-03T07:02:47.177199Z",
     "iopub.status.idle": "2020-12-03T07:02:47.182208Z",
     "shell.execute_reply": "2020-12-03T07:02:47.181618Z"
    },
    "papermill": {
     "duration": 0.022557,
     "end_time": "2020-12-03T07:02:47.182336",
     "exception": false,
     "start_time": "2020-12-03T07:02:47.159779",
     "status": "completed"
    },
    "tags": []
   },
   "outputs": [
    {
     "data": {
      "text/plain": [
       "itemid\n",
       "103572                    {31347710941008}\n",
       "103580                    {31338334007720}\n",
       "108696                    {31372952019978}\n",
       "240094                    {31380092284102}\n",
       "262532    {31362741095032, 31379924542443}\n",
       "Name: orderid, dtype: object"
      ]
     },
     "execution_count": 4,
     "metadata": {},
     "output_type": "execute_result"
    }
   ],
   "source": [
    "group_itemid.head()"
   ]
  },
  {
   "cell_type": "code",
   "execution_count": 5,
   "metadata": {
    "execution": {
     "iopub.execute_input": "2020-12-03T07:02:47.210494Z",
     "iopub.status.busy": "2020-12-03T07:02:47.209716Z",
     "iopub.status.idle": "2020-12-03T07:02:47.213215Z",
     "shell.execute_reply": "2020-12-03T07:02:47.212592Z"
    },
    "papermill": {
     "duration": 0.022116,
     "end_time": "2020-12-03T07:02:47.213344",
     "exception": false,
     "start_time": "2020-12-03T07:02:47.191228",
     "status": "completed"
    },
    "tags": []
   },
   "outputs": [],
   "source": [
    "def confidence(data):\n",
    "    data = [i.split('&') for i in data.split('>')]\n",
    "    denominator = group_itemid[int(data[0][0])]\n",
    "    if len(data[0]) > 1:\n",
    "        denominator = denominator.intersection(group_itemid[int(data[0][1])])\n",
    "    numerator = set(denominator)\n",
    "    for i in data[1]:\n",
    "        numerator = numerator.intersection(group_itemid[int(i)])\n",
    "    return floor(len(numerator)/len(denominator)*1000)"
   ]
  },
  {
   "cell_type": "code",
   "execution_count": 6,
   "metadata": {
    "execution": {
     "iopub.execute_input": "2020-12-03T07:02:47.237372Z",
     "iopub.status.busy": "2020-12-03T07:02:47.236617Z",
     "iopub.status.idle": "2020-12-03T07:02:47.702180Z",
     "shell.execute_reply": "2020-12-03T07:02:47.701440Z"
    },
    "papermill": {
     "duration": 0.480014,
     "end_time": "2020-12-03T07:02:47.702301",
     "exception": false,
     "start_time": "2020-12-03T07:02:47.222287",
     "status": "completed"
    },
    "tags": []
   },
   "outputs": [
    {
     "data": {
      "text/html": [
       "<div>\n",
       "<style scoped>\n",
       "    .dataframe tbody tr th:only-of-type {\n",
       "        vertical-align: middle;\n",
       "    }\n",
       "\n",
       "    .dataframe tbody tr th {\n",
       "        vertical-align: top;\n",
       "    }\n",
       "\n",
       "    .dataframe thead th {\n",
       "        text-align: right;\n",
       "    }\n",
       "</style>\n",
       "<table border=\"1\" class=\"dataframe\">\n",
       "  <thead>\n",
       "    <tr style=\"text-align: right;\">\n",
       "      <th></th>\n",
       "      <th>rule</th>\n",
       "      <th>confidence</th>\n",
       "    </tr>\n",
       "  </thead>\n",
       "  <tbody>\n",
       "    <tr>\n",
       "      <th>0</th>\n",
       "      <td>100242812&gt;80361758</td>\n",
       "      <td>470</td>\n",
       "    </tr>\n",
       "    <tr>\n",
       "      <th>1</th>\n",
       "      <td>100242812&gt;89031406</td>\n",
       "      <td>352</td>\n",
       "    </tr>\n",
       "    <tr>\n",
       "      <th>2</th>\n",
       "      <td>1003153762&gt;1016449477</td>\n",
       "      <td>388</td>\n",
       "    </tr>\n",
       "    <tr>\n",
       "      <th>3</th>\n",
       "      <td>1006024995&gt;2727415265</td>\n",
       "      <td>171</td>\n",
       "    </tr>\n",
       "    <tr>\n",
       "      <th>4</th>\n",
       "      <td>1006024995&gt;866012366</td>\n",
       "      <td>171</td>\n",
       "    </tr>\n",
       "    <tr>\n",
       "      <th>...</th>\n",
       "      <td>...</td>\n",
       "      <td>...</td>\n",
       "    </tr>\n",
       "    <tr>\n",
       "      <th>14233</th>\n",
       "      <td>995073047&gt;3202007524</td>\n",
       "      <td>102</td>\n",
       "    </tr>\n",
       "    <tr>\n",
       "      <th>14234</th>\n",
       "      <td>995073047&gt;651958908</td>\n",
       "      <td>130</td>\n",
       "    </tr>\n",
       "    <tr>\n",
       "      <th>14235</th>\n",
       "      <td>995073047&gt;7902698606</td>\n",
       "      <td>65</td>\n",
       "    </tr>\n",
       "    <tr>\n",
       "      <th>14236</th>\n",
       "      <td>995073047&gt;922394800</td>\n",
       "      <td>56</td>\n",
       "    </tr>\n",
       "    <tr>\n",
       "      <th>14237</th>\n",
       "      <td>995073047&gt;991988255</td>\n",
       "      <td>56</td>\n",
       "    </tr>\n",
       "  </tbody>\n",
       "</table>\n",
       "<p>14238 rows × 2 columns</p>\n",
       "</div>"
      ],
      "text/plain": [
       "                        rule  confidence\n",
       "0         100242812>80361758         470\n",
       "1         100242812>89031406         352\n",
       "2      1003153762>1016449477         388\n",
       "3      1006024995>2727415265         171\n",
       "4       1006024995>866012366         171\n",
       "...                      ...         ...\n",
       "14233   995073047>3202007524         102\n",
       "14234    995073047>651958908         130\n",
       "14235   995073047>7902698606          65\n",
       "14236    995073047>922394800          56\n",
       "14237    995073047>991988255          56\n",
       "\n",
       "[14238 rows x 2 columns]"
      ]
     },
     "execution_count": 6,
     "metadata": {},
     "output_type": "execute_result"
    }
   ],
   "source": [
    "rules['confidence'] = rules['rule'].apply(confidence)\n",
    "rules"
   ]
  },
  {
   "cell_type": "code",
   "execution_count": 7,
   "metadata": {
    "execution": {
     "iopub.execute_input": "2020-12-03T07:02:47.727286Z",
     "iopub.status.busy": "2020-12-03T07:02:47.726564Z",
     "iopub.status.idle": "2020-12-03T07:02:48.099110Z",
     "shell.execute_reply": "2020-12-03T07:02:48.098319Z"
    },
    "papermill": {
     "duration": 0.387166,
     "end_time": "2020-12-03T07:02:48.099260",
     "exception": false,
     "start_time": "2020-12-03T07:02:47.712094",
     "status": "completed"
    },
    "tags": []
   },
   "outputs": [
    {
     "data": {
      "text/html": [
       "<div>\n",
       "<style scoped>\n",
       "    .dataframe tbody tr th:only-of-type {\n",
       "        vertical-align: middle;\n",
       "    }\n",
       "\n",
       "    .dataframe tbody tr th {\n",
       "        vertical-align: top;\n",
       "    }\n",
       "\n",
       "    .dataframe thead th {\n",
       "        text-align: right;\n",
       "    }\n",
       "</style>\n",
       "<table border=\"1\" class=\"dataframe\">\n",
       "  <thead>\n",
       "    <tr style=\"text-align: right;\">\n",
       "      <th></th>\n",
       "      <th>rule</th>\n",
       "      <th>confidence</th>\n",
       "    </tr>\n",
       "  </thead>\n",
       "  <tbody>\n",
       "    <tr>\n",
       "      <th>0</th>\n",
       "      <td>100242812&gt;80361758</td>\n",
       "      <td>470</td>\n",
       "    </tr>\n",
       "    <tr>\n",
       "      <th>1</th>\n",
       "      <td>100242812&gt;89031406</td>\n",
       "      <td>352</td>\n",
       "    </tr>\n",
       "    <tr>\n",
       "      <th>2</th>\n",
       "      <td>1003153762&gt;1016449477</td>\n",
       "      <td>388</td>\n",
       "    </tr>\n",
       "    <tr>\n",
       "      <th>3</th>\n",
       "      <td>1006024995&gt;2727415265</td>\n",
       "      <td>171</td>\n",
       "    </tr>\n",
       "    <tr>\n",
       "      <th>4</th>\n",
       "      <td>1006024995&gt;866012366</td>\n",
       "      <td>171</td>\n",
       "    </tr>\n",
       "    <tr>\n",
       "      <th>...</th>\n",
       "      <td>...</td>\n",
       "      <td>...</td>\n",
       "    </tr>\n",
       "    <tr>\n",
       "      <th>14233</th>\n",
       "      <td>995073047&gt;3202007524</td>\n",
       "      <td>102</td>\n",
       "    </tr>\n",
       "    <tr>\n",
       "      <th>14234</th>\n",
       "      <td>995073047&gt;651958908</td>\n",
       "      <td>130</td>\n",
       "    </tr>\n",
       "    <tr>\n",
       "      <th>14235</th>\n",
       "      <td>995073047&gt;7902698606</td>\n",
       "      <td>65</td>\n",
       "    </tr>\n",
       "    <tr>\n",
       "      <th>14236</th>\n",
       "      <td>995073047&gt;922394800</td>\n",
       "      <td>56</td>\n",
       "    </tr>\n",
       "    <tr>\n",
       "      <th>14237</th>\n",
       "      <td>995073047&gt;991988255</td>\n",
       "      <td>56</td>\n",
       "    </tr>\n",
       "  </tbody>\n",
       "</table>\n",
       "<p>14238 rows × 2 columns</p>\n",
       "</div>"
      ],
      "text/plain": [
       "                        rule  confidence\n",
       "0         100242812>80361758         470\n",
       "1         100242812>89031406         352\n",
       "2      1003153762>1016449477         388\n",
       "3      1006024995>2727415265         171\n",
       "4       1006024995>866012366         171\n",
       "...                      ...         ...\n",
       "14233   995073047>3202007524         102\n",
       "14234    995073047>651958908         130\n",
       "14235   995073047>7902698606          65\n",
       "14236    995073047>922394800          56\n",
       "14237    995073047>991988255          56\n",
       "\n",
       "[14238 rows x 2 columns]"
      ]
     },
     "execution_count": 7,
     "metadata": {},
     "output_type": "execute_result"
    }
   ],
   "source": [
    "rules.to_csv('NyemplungTelat.csv', index=False)\n",
    "pd.read_csv('NyemplungTelat.csv')"
   ]
  },
  {
   "cell_type": "code",
   "execution_count": null,
   "metadata": {
    "papermill": {
     "duration": 0.010013,
     "end_time": "2020-12-03T07:02:48.119825",
     "exception": false,
     "start_time": "2020-12-03T07:02:48.109812",
     "status": "completed"
    },
    "tags": []
   },
   "outputs": [],
   "source": []
  }
 ],
 "metadata": {
  "kernelspec": {
   "display_name": "Python 3",
   "language": "python",
   "name": "python3"
  },
  "language_info": {
   "codemirror_mode": {
    "name": "ipython",
    "version": 3
   },
   "file_extension": ".py",
   "mimetype": "text/x-python",
   "name": "python",
   "nbconvert_exporter": "python",
   "pygments_lexer": "ipython3",
   "version": "3.7.6"
  },
  "papermill": {
   "duration": 15.369364,
   "end_time": "2020-12-03T07:02:48.239039",
   "environment_variables": {},
   "exception": null,
   "input_path": "__notebook__.ipynb",
   "output_path": "__notebook__.ipynb",
   "parameters": {},
   "start_time": "2020-12-03T07:02:32.869675",
   "version": "2.1.0"
  }
 },
 "nbformat": 4,
 "nbformat_minor": 4
}
