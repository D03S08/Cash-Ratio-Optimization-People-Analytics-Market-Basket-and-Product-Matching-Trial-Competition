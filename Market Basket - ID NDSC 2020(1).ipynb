{
 "cells": [
  {
   "cell_type": "code",
   "execution_count": 1,
   "metadata": {
    "_cell_guid": "79c7e3d0-c299-4dcb-8224-4455121ee9b0",
    "_uuid": "d629ff2d2480ee46fbb7e2d37f6b5fab8052498a",
    "execution": {
     "iopub.execute_input": "2020-11-28T06:17:27.147683Z",
     "iopub.status.busy": "2020-11-28T06:17:27.146928Z",
     "iopub.status.idle": "2020-11-28T06:17:28.710116Z",
     "shell.execute_reply": "2020-11-28T06:17:28.709215Z"
    },
    "papermill": {
     "duration": 1.583248,
     "end_time": "2020-11-28T06:17:28.710279",
     "exception": false,
     "start_time": "2020-11-28T06:17:27.127031",
     "status": "completed"
    },
    "tags": []
   },
   "outputs": [],
   "source": [
    "import numpy as np\n",
    "import pandas as pd\n",
    "import matplotlib.pyplot as plt\n",
    "import seaborn as sns\n",
    "sns.set()\n",
    "from sklearn.model_selection import train_test_split\n",
    "from sklearn.metrics import classification_report,accuracy_score,confusion_matrix\n",
    "import sklearn.metrics\n",
    "from sklearn import datasets\n",
    "from sklearn.ensemble import RandomForestClassifier\n",
    "from sklearn.neighbors import KNeighborsClassifier\n",
    "from sklearn.linear_model import LogisticRegression\n",
    "from sklearn.svm import SVC\n",
    "from sklearn.tree import DecisionTreeClassifier"
   ]
  },
  {
   "cell_type": "code",
   "execution_count": 2,
   "metadata": {
    "execution": {
     "iopub.execute_input": "2020-11-28T06:17:28.741097Z",
     "iopub.status.busy": "2020-11-28T06:17:28.739808Z",
     "iopub.status.idle": "2020-11-28T06:17:29.004493Z",
     "shell.execute_reply": "2020-11-28T06:17:29.003736Z"
    },
    "papermill": {
     "duration": 0.282155,
     "end_time": "2020-11-28T06:17:29.004643",
     "exception": false,
     "start_time": "2020-11-28T06:17:28.722488",
     "status": "completed"
    },
    "tags": []
   },
   "outputs": [
    {
     "data": {
      "text/html": [
       "<div>\n",
       "<style scoped>\n",
       "    .dataframe tbody tr th:only-of-type {\n",
       "        vertical-align: middle;\n",
       "    }\n",
       "\n",
       "    .dataframe tbody tr th {\n",
       "        vertical-align: top;\n",
       "    }\n",
       "\n",
       "    .dataframe thead th {\n",
       "        text-align: right;\n",
       "    }\n",
       "</style>\n",
       "<table border=\"1\" class=\"dataframe\">\n",
       "  <thead>\n",
       "    <tr style=\"text-align: right;\">\n",
       "      <th></th>\n",
       "      <th>orderid</th>\n",
       "      <th>itemid</th>\n",
       "    </tr>\n",
       "  </thead>\n",
       "  <tbody>\n",
       "    <tr>\n",
       "      <th>0</th>\n",
       "      <td>31379820545759</td>\n",
       "      <td>719740607</td>\n",
       "    </tr>\n",
       "    <tr>\n",
       "      <th>1</th>\n",
       "      <td>31378575577269</td>\n",
       "      <td>1825360194</td>\n",
       "    </tr>\n",
       "    <tr>\n",
       "      <th>2</th>\n",
       "      <td>31369591568249</td>\n",
       "      <td>1108903291</td>\n",
       "    </tr>\n",
       "    <tr>\n",
       "      <th>3</th>\n",
       "      <td>31369836201769</td>\n",
       "      <td>4507360843</td>\n",
       "    </tr>\n",
       "    <tr>\n",
       "      <th>4</th>\n",
       "      <td>31372360246729</td>\n",
       "      <td>1821888475</td>\n",
       "    </tr>\n",
       "  </tbody>\n",
       "</table>\n",
       "</div>"
      ],
      "text/plain": [
       "          orderid      itemid\n",
       "0  31379820545759   719740607\n",
       "1  31378575577269  1825360194\n",
       "2  31369591568249  1108903291\n",
       "3  31369836201769  4507360843\n",
       "4  31372360246729  1821888475"
      ]
     },
     "execution_count": 2,
     "metadata": {},
     "output_type": "execute_result"
    }
   ],
   "source": [
    "df = pd.read_csv('../input/market-basket-id-ndsc-2020/association_order.csv')\n",
    "df.head()"
   ]
  },
  {
   "cell_type": "code",
   "execution_count": 3,
   "metadata": {
    "execution": {
     "iopub.execute_input": "2020-11-28T06:17:29.033865Z",
     "iopub.status.busy": "2020-11-28T06:17:29.032469Z",
     "iopub.status.idle": "2020-11-28T06:17:29.066183Z",
     "shell.execute_reply": "2020-11-28T06:17:29.065338Z"
    },
    "papermill": {
     "duration": 0.050987,
     "end_time": "2020-11-28T06:17:29.066336",
     "exception": false,
     "start_time": "2020-11-28T06:17:29.015349",
     "status": "completed"
    },
    "tags": []
   },
   "outputs": [
    {
     "data": {
      "text/html": [
       "<div>\n",
       "<style scoped>\n",
       "    .dataframe tbody tr th:only-of-type {\n",
       "        vertical-align: middle;\n",
       "    }\n",
       "\n",
       "    .dataframe tbody tr th {\n",
       "        vertical-align: top;\n",
       "    }\n",
       "\n",
       "    .dataframe thead th {\n",
       "        text-align: right;\n",
       "    }\n",
       "</style>\n",
       "<table border=\"1\" class=\"dataframe\">\n",
       "  <thead>\n",
       "    <tr style=\"text-align: right;\">\n",
       "      <th></th>\n",
       "      <th>rule</th>\n",
       "    </tr>\n",
       "  </thead>\n",
       "  <tbody>\n",
       "    <tr>\n",
       "      <th>0</th>\n",
       "      <td>100242812&gt;80361758</td>\n",
       "    </tr>\n",
       "    <tr>\n",
       "      <th>1</th>\n",
       "      <td>100242812&gt;89031406</td>\n",
       "    </tr>\n",
       "    <tr>\n",
       "      <th>2</th>\n",
       "      <td>1003153762&gt;1016449477</td>\n",
       "    </tr>\n",
       "    <tr>\n",
       "      <th>3</th>\n",
       "      <td>1006024995&gt;2727415265</td>\n",
       "    </tr>\n",
       "    <tr>\n",
       "      <th>4</th>\n",
       "      <td>1006024995&gt;866012366</td>\n",
       "    </tr>\n",
       "    <tr>\n",
       "      <th>...</th>\n",
       "      <td>...</td>\n",
       "    </tr>\n",
       "    <tr>\n",
       "      <th>14233</th>\n",
       "      <td>995073047&gt;3202007524</td>\n",
       "    </tr>\n",
       "    <tr>\n",
       "      <th>14234</th>\n",
       "      <td>995073047&gt;651958908</td>\n",
       "    </tr>\n",
       "    <tr>\n",
       "      <th>14235</th>\n",
       "      <td>995073047&gt;7902698606</td>\n",
       "    </tr>\n",
       "    <tr>\n",
       "      <th>14236</th>\n",
       "      <td>995073047&gt;922394800</td>\n",
       "    </tr>\n",
       "    <tr>\n",
       "      <th>14237</th>\n",
       "      <td>995073047&gt;991988255</td>\n",
       "    </tr>\n",
       "  </tbody>\n",
       "</table>\n",
       "<p>14238 rows × 1 columns</p>\n",
       "</div>"
      ],
      "text/plain": [
       "                        rule\n",
       "0         100242812>80361758\n",
       "1         100242812>89031406\n",
       "2      1003153762>1016449477\n",
       "3      1006024995>2727415265\n",
       "4       1006024995>866012366\n",
       "...                      ...\n",
       "14233   995073047>3202007524\n",
       "14234    995073047>651958908\n",
       "14235   995073047>7902698606\n",
       "14236    995073047>922394800\n",
       "14237    995073047>991988255\n",
       "\n",
       "[14238 rows x 1 columns]"
      ]
     },
     "execution_count": 3,
     "metadata": {},
     "output_type": "execute_result"
    }
   ],
   "source": [
    "df1= pd.read_csv('../input/market-basket-id-ndsc-2020/rules.csv')\n",
    "df1"
   ]
  },
  {
   "cell_type": "code",
   "execution_count": 4,
   "metadata": {
    "execution": {
     "iopub.execute_input": "2020-11-28T06:17:29.095582Z",
     "iopub.status.busy": "2020-11-28T06:17:29.094783Z",
     "iopub.status.idle": "2020-11-28T06:17:29.148840Z",
     "shell.execute_reply": "2020-11-28T06:17:29.148055Z"
    },
    "papermill": {
     "duration": 0.071533,
     "end_time": "2020-11-28T06:17:29.148997",
     "exception": false,
     "start_time": "2020-11-28T06:17:29.077464",
     "status": "completed"
    },
    "tags": []
   },
   "outputs": [
    {
     "data": {
      "text/html": [
       "<div>\n",
       "<style scoped>\n",
       "    .dataframe tbody tr th:only-of-type {\n",
       "        vertical-align: middle;\n",
       "    }\n",
       "\n",
       "    .dataframe tbody tr th {\n",
       "        vertical-align: top;\n",
       "    }\n",
       "\n",
       "    .dataframe thead th {\n",
       "        text-align: right;\n",
       "    }\n",
       "</style>\n",
       "<table border=\"1\" class=\"dataframe\">\n",
       "  <thead>\n",
       "    <tr style=\"text-align: right;\">\n",
       "      <th></th>\n",
       "      <th>rule</th>\n",
       "      <th>orderid</th>\n",
       "      <th>itemid</th>\n",
       "    </tr>\n",
       "  </thead>\n",
       "  <tbody>\n",
       "    <tr>\n",
       "      <th>0</th>\n",
       "      <td>100242812&gt;80361758</td>\n",
       "      <td>31379820545759</td>\n",
       "      <td>719740607</td>\n",
       "    </tr>\n",
       "    <tr>\n",
       "      <th>1</th>\n",
       "      <td>100242812&gt;89031406</td>\n",
       "      <td>31378575577269</td>\n",
       "      <td>1825360194</td>\n",
       "    </tr>\n",
       "    <tr>\n",
       "      <th>2</th>\n",
       "      <td>1003153762&gt;1016449477</td>\n",
       "      <td>31369591568249</td>\n",
       "      <td>1108903291</td>\n",
       "    </tr>\n",
       "    <tr>\n",
       "      <th>3</th>\n",
       "      <td>1006024995&gt;2727415265</td>\n",
       "      <td>31369836201769</td>\n",
       "      <td>4507360843</td>\n",
       "    </tr>\n",
       "    <tr>\n",
       "      <th>4</th>\n",
       "      <td>1006024995&gt;866012366</td>\n",
       "      <td>31372360246729</td>\n",
       "      <td>1821888475</td>\n",
       "    </tr>\n",
       "    <tr>\n",
       "      <th>...</th>\n",
       "      <td>...</td>\n",
       "      <td>...</td>\n",
       "      <td>...</td>\n",
       "    </tr>\n",
       "    <tr>\n",
       "      <th>423856</th>\n",
       "      <td>NaN</td>\n",
       "      <td>31348804008384</td>\n",
       "      <td>2174769495</td>\n",
       "    </tr>\n",
       "    <tr>\n",
       "      <th>423857</th>\n",
       "      <td>NaN</td>\n",
       "      <td>31379932877729</td>\n",
       "      <td>6912791179</td>\n",
       "    </tr>\n",
       "    <tr>\n",
       "      <th>423858</th>\n",
       "      <td>NaN</td>\n",
       "      <td>31368033346399</td>\n",
       "      <td>1340457527</td>\n",
       "    </tr>\n",
       "    <tr>\n",
       "      <th>423859</th>\n",
       "      <td>NaN</td>\n",
       "      <td>31381864883559</td>\n",
       "      <td>2515423948</td>\n",
       "    </tr>\n",
       "    <tr>\n",
       "      <th>423860</th>\n",
       "      <td>NaN</td>\n",
       "      <td>31358790557954</td>\n",
       "      <td>1488272669</td>\n",
       "    </tr>\n",
       "  </tbody>\n",
       "</table>\n",
       "<p>423861 rows × 3 columns</p>\n",
       "</div>"
      ],
      "text/plain": [
       "                         rule         orderid      itemid\n",
       "0          100242812>80361758  31379820545759   719740607\n",
       "1          100242812>89031406  31378575577269  1825360194\n",
       "2       1003153762>1016449477  31369591568249  1108903291\n",
       "3       1006024995>2727415265  31369836201769  4507360843\n",
       "4        1006024995>866012366  31372360246729  1821888475\n",
       "...                       ...             ...         ...\n",
       "423856                    NaN  31348804008384  2174769495\n",
       "423857                    NaN  31379932877729  6912791179\n",
       "423858                    NaN  31368033346399  1340457527\n",
       "423859                    NaN  31381864883559  2515423948\n",
       "423860                    NaN  31358790557954  1488272669\n",
       "\n",
       "[423861 rows x 3 columns]"
      ]
     },
     "execution_count": 4,
     "metadata": {},
     "output_type": "execute_result"
    }
   ],
   "source": [
    "data = pd.concat([df1,df], axis=1)\n",
    "data"
   ]
  },
  {
   "cell_type": "code",
   "execution_count": 5,
   "metadata": {
    "execution": {
     "iopub.execute_input": "2020-11-28T06:17:29.201171Z",
     "iopub.status.busy": "2020-11-28T06:17:29.200337Z",
     "iopub.status.idle": "2020-11-28T06:17:29.240074Z",
     "shell.execute_reply": "2020-11-28T06:17:29.239303Z"
    },
    "papermill": {
     "duration": 0.079742,
     "end_time": "2020-11-28T06:17:29.240210",
     "exception": false,
     "start_time": "2020-11-28T06:17:29.160468",
     "status": "completed"
    },
    "tags": []
   },
   "outputs": [
    {
     "data": {
      "text/html": [
       "<div>\n",
       "<style scoped>\n",
       "    .dataframe tbody tr th:only-of-type {\n",
       "        vertical-align: middle;\n",
       "    }\n",
       "\n",
       "    .dataframe tbody tr th {\n",
       "        vertical-align: top;\n",
       "    }\n",
       "\n",
       "    .dataframe thead th {\n",
       "        text-align: right;\n",
       "    }\n",
       "</style>\n",
       "<table border=\"1\" class=\"dataframe\">\n",
       "  <thead>\n",
       "    <tr style=\"text-align: right;\">\n",
       "      <th></th>\n",
       "      <th>rule</th>\n",
       "      <th>orderid</th>\n",
       "      <th>itemid</th>\n",
       "    </tr>\n",
       "  </thead>\n",
       "  <tbody>\n",
       "    <tr>\n",
       "      <th>0</th>\n",
       "      <td>100242812&gt;80361758</td>\n",
       "      <td>31379820545759</td>\n",
       "      <td>719740607</td>\n",
       "    </tr>\n",
       "    <tr>\n",
       "      <th>1</th>\n",
       "      <td>100242812&gt;89031406</td>\n",
       "      <td>31378575577269</td>\n",
       "      <td>1825360194</td>\n",
       "    </tr>\n",
       "    <tr>\n",
       "      <th>2</th>\n",
       "      <td>1003153762&gt;1016449477</td>\n",
       "      <td>31369591568249</td>\n",
       "      <td>1108903291</td>\n",
       "    </tr>\n",
       "    <tr>\n",
       "      <th>3</th>\n",
       "      <td>1006024995&gt;2727415265</td>\n",
       "      <td>31369836201769</td>\n",
       "      <td>4507360843</td>\n",
       "    </tr>\n",
       "    <tr>\n",
       "      <th>4</th>\n",
       "      <td>1006024995&gt;866012366</td>\n",
       "      <td>31372360246729</td>\n",
       "      <td>1821888475</td>\n",
       "    </tr>\n",
       "    <tr>\n",
       "      <th>...</th>\n",
       "      <td>...</td>\n",
       "      <td>...</td>\n",
       "      <td>...</td>\n",
       "    </tr>\n",
       "    <tr>\n",
       "      <th>14233</th>\n",
       "      <td>995073047&gt;3202007524</td>\n",
       "      <td>31374186845418</td>\n",
       "      <td>6900864349</td>\n",
       "    </tr>\n",
       "    <tr>\n",
       "      <th>14234</th>\n",
       "      <td>995073047&gt;651958908</td>\n",
       "      <td>31373978932393</td>\n",
       "      <td>2448815700</td>\n",
       "    </tr>\n",
       "    <tr>\n",
       "      <th>14235</th>\n",
       "      <td>995073047&gt;7902698606</td>\n",
       "      <td>31364835067993</td>\n",
       "      <td>1815479402</td>\n",
       "    </tr>\n",
       "    <tr>\n",
       "      <th>14236</th>\n",
       "      <td>995073047&gt;922394800</td>\n",
       "      <td>31378513408523</td>\n",
       "      <td>2039316995</td>\n",
       "    </tr>\n",
       "    <tr>\n",
       "      <th>14237</th>\n",
       "      <td>995073047&gt;991988255</td>\n",
       "      <td>31380039483433</td>\n",
       "      <td>2039316995</td>\n",
       "    </tr>\n",
       "  </tbody>\n",
       "</table>\n",
       "<p>14238 rows × 3 columns</p>\n",
       "</div>"
      ],
      "text/plain": [
       "                        rule         orderid      itemid\n",
       "0         100242812>80361758  31379820545759   719740607\n",
       "1         100242812>89031406  31378575577269  1825360194\n",
       "2      1003153762>1016449477  31369591568249  1108903291\n",
       "3      1006024995>2727415265  31369836201769  4507360843\n",
       "4       1006024995>866012366  31372360246729  1821888475\n",
       "...                      ...             ...         ...\n",
       "14233   995073047>3202007524  31374186845418  6900864349\n",
       "14234    995073047>651958908  31373978932393  2448815700\n",
       "14235   995073047>7902698606  31364835067993  1815479402\n",
       "14236    995073047>922394800  31378513408523  2039316995\n",
       "14237    995073047>991988255  31380039483433  2039316995\n",
       "\n",
       "[14238 rows x 3 columns]"
      ]
     },
     "execution_count": 5,
     "metadata": {},
     "output_type": "execute_result"
    }
   ],
   "source": [
    "data.dropna()"
   ]
  },
  {
   "cell_type": "code",
   "execution_count": 6,
   "metadata": {
    "execution": {
     "iopub.execute_input": "2020-11-28T06:17:29.271446Z",
     "iopub.status.busy": "2020-11-28T06:17:29.270594Z",
     "iopub.status.idle": "2020-11-28T06:17:31.417261Z",
     "shell.execute_reply": "2020-11-28T06:17:31.416220Z"
    },
    "papermill": {
     "duration": 2.164767,
     "end_time": "2020-11-28T06:17:31.417439",
     "exception": false,
     "start_time": "2020-11-28T06:17:29.252672",
     "status": "completed"
    },
    "tags": []
   },
   "outputs": [],
   "source": [
    "data.to_csv('has.csv')"
   ]
  },
  {
   "cell_type": "code",
   "execution_count": 7,
   "metadata": {
    "execution": {
     "iopub.execute_input": "2020-11-28T06:17:31.451317Z",
     "iopub.status.busy": "2020-11-28T06:17:31.450330Z",
     "iopub.status.idle": "2020-11-28T06:17:31.996781Z",
     "shell.execute_reply": "2020-11-28T06:17:31.995582Z"
    },
    "papermill": {
     "duration": 0.565909,
     "end_time": "2020-11-28T06:17:31.997037",
     "exception": false,
     "start_time": "2020-11-28T06:17:31.431128",
     "status": "completed"
    },
    "tags": []
   },
   "outputs": [
    {
     "name": "stderr",
     "output_type": "stream",
     "text": [
      "/opt/conda/lib/python3.7/site-packages/IPython/core/interactiveshell.py:3063: DtypeWarning: Columns (1) have mixed types.Specify dtype option on import or set low_memory=False.\n",
      "  interactivity=interactivity, compiler=compiler, result=result)\n"
     ]
    }
   ],
   "source": [
    "rule = pd.read_csv('./has.csv')['rule'].values\n",
    "itemid = pd.read_csv('./has.csv')['itemid'].values"
   ]
  },
  {
   "cell_type": "code",
   "execution_count": 8,
   "metadata": {
    "execution": {
     "iopub.execute_input": "2020-11-28T06:17:32.054523Z",
     "iopub.status.busy": "2020-11-28T06:17:32.053169Z",
     "iopub.status.idle": "2020-11-28T06:17:32.088775Z",
     "shell.execute_reply": "2020-11-28T06:17:32.089664Z"
    },
    "papermill": {
     "duration": 0.073526,
     "end_time": "2020-11-28T06:17:32.089935",
     "exception": false,
     "start_time": "2020-11-28T06:17:32.016409",
     "status": "completed"
    },
    "tags": []
   },
   "outputs": [
    {
     "data": {
      "text/html": [
       "<div>\n",
       "<style scoped>\n",
       "    .dataframe tbody tr th:only-of-type {\n",
       "        vertical-align: middle;\n",
       "    }\n",
       "\n",
       "    .dataframe tbody tr th {\n",
       "        vertical-align: top;\n",
       "    }\n",
       "\n",
       "    .dataframe thead th {\n",
       "        text-align: right;\n",
       "    }\n",
       "</style>\n",
       "<table border=\"1\" class=\"dataframe\">\n",
       "  <thead>\n",
       "    <tr style=\"text-align: right;\">\n",
       "      <th></th>\n",
       "      <th>confidence</th>\n",
       "    </tr>\n",
       "    <tr>\n",
       "      <th>rule</th>\n",
       "      <th></th>\n",
       "    </tr>\n",
       "  </thead>\n",
       "  <tbody>\n",
       "    <tr>\n",
       "      <th>100242812&gt;80361758</th>\n",
       "      <td>719740607</td>\n",
       "    </tr>\n",
       "    <tr>\n",
       "      <th>100242812&gt;89031406</th>\n",
       "      <td>1825360194</td>\n",
       "    </tr>\n",
       "    <tr>\n",
       "      <th>1003153762&gt;1016449477</th>\n",
       "      <td>1108903291</td>\n",
       "    </tr>\n",
       "    <tr>\n",
       "      <th>1006024995&gt;2727415265</th>\n",
       "      <td>4507360843</td>\n",
       "    </tr>\n",
       "    <tr>\n",
       "      <th>1006024995&gt;866012366</th>\n",
       "      <td>1821888475</td>\n",
       "    </tr>\n",
       "    <tr>\n",
       "      <th>1006149508&gt;2867088619</th>\n",
       "      <td>77274674</td>\n",
       "    </tr>\n",
       "    <tr>\n",
       "      <th>1006149508&gt;599643179</th>\n",
       "      <td>1593652521</td>\n",
       "    </tr>\n",
       "    <tr>\n",
       "      <th>1006149508&gt;943964984</th>\n",
       "      <td>2621009592</td>\n",
       "    </tr>\n",
       "    <tr>\n",
       "      <th>1008435393&amp;1008455319&gt;454021998</th>\n",
       "      <td>1251969983</td>\n",
       "    </tr>\n",
       "    <tr>\n",
       "      <th>1008435393&amp;1336146681&gt;454021998</th>\n",
       "      <td>6713240910</td>\n",
       "    </tr>\n",
       "  </tbody>\n",
       "</table>\n",
       "</div>"
      ],
      "text/plain": [
       "                                 confidence\n",
       "rule                                       \n",
       "100242812>80361758                719740607\n",
       "100242812>89031406               1825360194\n",
       "1003153762>1016449477            1108903291\n",
       "1006024995>2727415265            4507360843\n",
       "1006024995>866012366             1821888475\n",
       "1006149508>2867088619              77274674\n",
       "1006149508>599643179             1593652521\n",
       "1006149508>943964984             2621009592\n",
       "1008435393&1008455319>454021998  1251969983\n",
       "1008435393&1336146681>454021998  6713240910"
      ]
     },
     "execution_count": 8,
     "metadata": {},
     "output_type": "execute_result"
    }
   ],
   "source": [
    "df1 = {'rule': rule.ravel(), 'confidence': itemid}\n",
    "df1_hasil = pd.DataFrame(df1).set_index(['rule'])\n",
    "df1_hasil.head(10)"
   ]
  },
  {
   "cell_type": "code",
   "execution_count": 9,
   "metadata": {
    "execution": {
     "iopub.execute_input": "2020-11-28T06:17:32.144299Z",
     "iopub.status.busy": "2020-11-28T06:17:32.131521Z",
     "iopub.status.idle": "2020-11-28T06:17:32.641973Z",
     "shell.execute_reply": "2020-11-28T06:17:32.641144Z"
    },
    "papermill": {
     "duration": 0.534291,
     "end_time": "2020-11-28T06:17:32.642129",
     "exception": false,
     "start_time": "2020-11-28T06:17:32.107838",
     "status": "completed"
    },
    "tags": []
   },
   "outputs": [],
   "source": [
    "df1_hasil.to_csv('nyemplungers1.csv')"
   ]
  },
  {
   "cell_type": "code",
   "execution_count": null,
   "metadata": {
    "papermill": {
     "duration": 0.014068,
     "end_time": "2020-11-28T06:17:32.671139",
     "exception": false,
     "start_time": "2020-11-28T06:17:32.657071",
     "status": "completed"
    },
    "tags": []
   },
   "outputs": [],
   "source": []
  }
 ],
 "metadata": {
  "kernelspec": {
   "display_name": "Python 3",
   "language": "python",
   "name": "python3"
  },
  "language_info": {
   "codemirror_mode": {
    "name": "ipython",
    "version": 3
   },
   "file_extension": ".py",
   "mimetype": "text/x-python",
   "name": "python",
   "nbconvert_exporter": "python",
   "pygments_lexer": "ipython3",
   "version": "3.7.6"
  },
  "papermill": {
   "duration": 10.711036,
   "end_time": "2020-11-28T06:17:32.796766",
   "environment_variables": {},
   "exception": null,
   "input_path": "__notebook__.ipynb",
   "output_path": "__notebook__.ipynb",
   "parameters": {},
   "start_time": "2020-11-28T06:17:22.085730",
   "version": "2.1.0"
  }
 },
 "nbformat": 4,
 "nbformat_minor": 4
}
